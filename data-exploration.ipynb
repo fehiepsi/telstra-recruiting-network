{
 "cells": [
  {
   "cell_type": "code",
   "execution_count": 1,
   "metadata": {
    "collapsed": true
   },
   "outputs": [],
   "source": [
    "# import standard libraries\n",
    "import numpy as np\n",
    "import pandas as pd\n",
    "import matplotlib.pyplot as plt\n",
    "import seaborn as sns; sns.set()\n",
    "%matplotlib inline"
   ]
  },
  {
   "cell_type": "code",
   "execution_count": 2,
   "metadata": {
    "collapsed": true
   },
   "outputs": [],
   "source": [
    "def summary(dataframe):\n",
    "    print(dataframe.head())\n",
    "    print(dataframe.info())\n",
    "    print(dataframe.describe(include=\"all\"))"
   ]
  },
  {
   "cell_type": "code",
   "execution_count": 3,
   "metadata": {
    "collapsed": false
   },
   "outputs": [],
   "source": [
    "def load_data():\n",
    "    data = {}\n",
    "    data[\"train\"] = pd.read_csv(\"input/train.csv\")\n",
    "    data[\"test\"] = pd.read_csv(\"input/test.csv\")\n",
    "    data[\"event_type\"] = pd.read_csv(\"input/event_type.csv\")\n",
    "    data[\"resource_type\"] = pd.read_csv(\"input/resource_type.csv\")\n",
    "    data[\"severity_type\"] = pd.read_csv(\"input/severity_type.csv\")\n",
    "    data[\"log_feature\"] = pd.read_csv(\"input/log_feature.csv\")\n",
    "    return data\n",
    "\n",
    "data = load_data()"
   ]
  },
  {
   "cell_type": "code",
   "execution_count": 4,
   "metadata": {
    "collapsed": false
   },
   "outputs": [
    {
     "data": {
      "text/html": [
       "<div>\n",
       "<table border=\"1\" class=\"dataframe\">\n",
       "  <thead>\n",
       "    <tr style=\"text-align: right;\">\n",
       "      <th></th>\n",
       "      <th>id</th>\n",
       "      <th>location</th>\n",
       "      <th>fault_severity</th>\n",
       "    </tr>\n",
       "  </thead>\n",
       "  <tbody>\n",
       "    <tr>\n",
       "      <th>0</th>\n",
       "      <td>14121</td>\n",
       "      <td>location 118</td>\n",
       "      <td>1</td>\n",
       "    </tr>\n",
       "    <tr>\n",
       "      <th>1</th>\n",
       "      <td>9320</td>\n",
       "      <td>location 91</td>\n",
       "      <td>0</td>\n",
       "    </tr>\n",
       "    <tr>\n",
       "      <th>2</th>\n",
       "      <td>14394</td>\n",
       "      <td>location 152</td>\n",
       "      <td>1</td>\n",
       "    </tr>\n",
       "    <tr>\n",
       "      <th>3</th>\n",
       "      <td>8218</td>\n",
       "      <td>location 931</td>\n",
       "      <td>1</td>\n",
       "    </tr>\n",
       "    <tr>\n",
       "      <th>4</th>\n",
       "      <td>14804</td>\n",
       "      <td>location 120</td>\n",
       "      <td>0</td>\n",
       "    </tr>\n",
       "  </tbody>\n",
       "</table>\n",
       "</div>"
      ],
      "text/plain": [
       "      id      location  fault_severity\n",
       "0  14121  location 118               1\n",
       "1   9320   location 91               0\n",
       "2  14394  location 152               1\n",
       "3   8218  location 931               1\n",
       "4  14804  location 120               0"
      ]
     },
     "execution_count": 4,
     "metadata": {},
     "output_type": "execute_result"
    }
   ],
   "source": [
    "data[\"train\"].head()"
   ]
  },
  {
   "cell_type": "code",
   "execution_count": 5,
   "metadata": {
    "collapsed": false
   },
   "outputs": [
    {
     "data": {
      "text/html": [
       "<div>\n",
       "<table border=\"1\" class=\"dataframe\">\n",
       "  <thead>\n",
       "    <tr style=\"text-align: right;\">\n",
       "      <th></th>\n",
       "      <th>id</th>\n",
       "      <th>location</th>\n",
       "    </tr>\n",
       "  </thead>\n",
       "  <tbody>\n",
       "    <tr>\n",
       "      <th>0</th>\n",
       "      <td>11066</td>\n",
       "      <td>location 481</td>\n",
       "    </tr>\n",
       "    <tr>\n",
       "      <th>1</th>\n",
       "      <td>18000</td>\n",
       "      <td>location 962</td>\n",
       "    </tr>\n",
       "    <tr>\n",
       "      <th>2</th>\n",
       "      <td>16964</td>\n",
       "      <td>location 491</td>\n",
       "    </tr>\n",
       "    <tr>\n",
       "      <th>3</th>\n",
       "      <td>4795</td>\n",
       "      <td>location 532</td>\n",
       "    </tr>\n",
       "    <tr>\n",
       "      <th>4</th>\n",
       "      <td>3392</td>\n",
       "      <td>location 600</td>\n",
       "    </tr>\n",
       "  </tbody>\n",
       "</table>\n",
       "</div>"
      ],
      "text/plain": [
       "      id      location\n",
       "0  11066  location 481\n",
       "1  18000  location 962\n",
       "2  16964  location 491\n",
       "3   4795  location 532\n",
       "4   3392  location 600"
      ]
     },
     "execution_count": 5,
     "metadata": {},
     "output_type": "execute_result"
    }
   ],
   "source": [
    "data[\"test\"].head()"
   ]
  },
  {
   "cell_type": "code",
   "execution_count": 6,
   "metadata": {
    "collapsed": false
   },
   "outputs": [
    {
     "data": {
      "text/html": [
       "<div>\n",
       "<table border=\"1\" class=\"dataframe\">\n",
       "  <thead>\n",
       "    <tr style=\"text-align: right;\">\n",
       "      <th></th>\n",
       "      <th>id</th>\n",
       "      <th>predict_0</th>\n",
       "      <th>predict_1</th>\n",
       "      <th>predict_2</th>\n",
       "    </tr>\n",
       "  </thead>\n",
       "  <tbody>\n",
       "    <tr>\n",
       "      <th>0</th>\n",
       "      <td>11066</td>\n",
       "      <td>0</td>\n",
       "      <td>1</td>\n",
       "      <td>0</td>\n",
       "    </tr>\n",
       "    <tr>\n",
       "      <th>1</th>\n",
       "      <td>18000</td>\n",
       "      <td>0</td>\n",
       "      <td>1</td>\n",
       "      <td>0</td>\n",
       "    </tr>\n",
       "    <tr>\n",
       "      <th>2</th>\n",
       "      <td>16964</td>\n",
       "      <td>0</td>\n",
       "      <td>1</td>\n",
       "      <td>0</td>\n",
       "    </tr>\n",
       "    <tr>\n",
       "      <th>3</th>\n",
       "      <td>4795</td>\n",
       "      <td>0</td>\n",
       "      <td>1</td>\n",
       "      <td>0</td>\n",
       "    </tr>\n",
       "    <tr>\n",
       "      <th>4</th>\n",
       "      <td>3392</td>\n",
       "      <td>0</td>\n",
       "      <td>1</td>\n",
       "      <td>0</td>\n",
       "    </tr>\n",
       "  </tbody>\n",
       "</table>\n",
       "</div>"
      ],
      "text/plain": [
       "      id  predict_0  predict_1  predict_2\n",
       "0  11066          0          1          0\n",
       "1  18000          0          1          0\n",
       "2  16964          0          1          0\n",
       "3   4795          0          1          0\n",
       "4   3392          0          1          0"
      ]
     },
     "execution_count": 6,
     "metadata": {},
     "output_type": "execute_result"
    }
   ],
   "source": [
    "sample_submission = pd.read_csv(\"input/sample_submission.csv\")\n",
    "sample_submission.head()"
   ]
  },
  {
   "cell_type": "markdown",
   "metadata": {},
   "source": [
    "### train & test"
   ]
  },
  {
   "cell_type": "code",
   "execution_count": 7,
   "metadata": {
    "collapsed": false
   },
   "outputs": [
    {
     "name": "stdout",
     "output_type": "stream",
     "text": [
      "      id      location  fault_severity\n",
      "0  14121  location 118               1\n",
      "1   9320   location 91               0\n",
      "2  14394  location 152               1\n",
      "3   8218  location 931               1\n",
      "4  14804  location 120               0\n",
      "<class 'pandas.core.frame.DataFrame'>\n",
      "RangeIndex: 7381 entries, 0 to 7380\n",
      "Data columns (total 3 columns):\n",
      "id                7381 non-null int64\n",
      "location          7381 non-null object\n",
      "fault_severity    7381 non-null int64\n",
      "dtypes: int64(2), object(1)\n",
      "memory usage: 173.1+ KB\n",
      "None\n",
      "                  id      location  fault_severity\n",
      "count    7381.000000          7381      7381.00000\n",
      "unique           NaN           929             NaN\n",
      "top              NaN  location 821             NaN\n",
      "freq             NaN            85             NaN\n",
      "mean     9264.649099           NaN         0.45021\n",
      "std      5349.290176           NaN         0.66656\n",
      "min         1.000000           NaN         0.00000\n",
      "25%      4647.000000           NaN         0.00000\n",
      "50%      9222.000000           NaN         0.00000\n",
      "75%     13885.000000           NaN         1.00000\n",
      "max     18550.000000           NaN         2.00000\n"
     ]
    }
   ],
   "source": [
    "summary(data[\"train\"])"
   ]
  },
  {
   "cell_type": "code",
   "execution_count": 8,
   "metadata": {
    "collapsed": false
   },
   "outputs": [
    {
     "name": "stdout",
     "output_type": "stream",
     "text": [
      "      id      location\n",
      "0  11066  location 481\n",
      "1  18000  location 962\n",
      "2  16964  location 491\n",
      "3   4795  location 532\n",
      "4   3392  location 600\n",
      "<class 'pandas.core.frame.DataFrame'>\n",
      "RangeIndex: 11171 entries, 0 to 11170\n",
      "Data columns (total 2 columns):\n",
      "id          11171 non-null int64\n",
      "location    11171 non-null object\n",
      "dtypes: int64(1), object(1)\n",
      "memory usage: 174.6+ KB\n",
      "None\n",
      "                  id      location\n",
      "count   11171.000000         11171\n",
      "unique           NaN          1039\n",
      "top              NaN  location 734\n",
      "freq             NaN           109\n",
      "mean     9284.330230           NaN\n",
      "std      5360.065369           NaN\n",
      "min         2.000000           NaN\n",
      "25%      4630.000000           NaN\n",
      "50%      9316.000000           NaN\n",
      "75%     13926.000000           NaN\n",
      "max     18552.000000           NaN\n"
     ]
    }
   ],
   "source": [
    "summary(data[\"test\"])"
   ]
  },
  {
   "cell_type": "code",
   "execution_count": 9,
   "metadata": {
    "collapsed": false
   },
   "outputs": [
    {
     "data": {
      "text/plain": [
       "0    4784\n",
       "1    1871\n",
       "2     726\n",
       "Name: fault_severity, dtype: int64"
      ]
     },
     "execution_count": 9,
     "metadata": {},
     "output_type": "execute_result"
    }
   ],
   "source": [
    "data[\"train\"][\"fault_severity\"].value_counts()"
   ]
  },
  {
   "cell_type": "markdown",
   "metadata": {},
   "source": [
    "#### Remark:\n",
    "+ location should be categorized or numerized?\n",
    "+ number of location in train_data is less than in test_data\n",
    "+ imbalanced classfication"
   ]
  },
  {
   "cell_type": "code",
   "execution_count": 10,
   "metadata": {
    "collapsed": false
   },
   "outputs": [
    {
     "data": {
      "text/plain": [
       "dict_keys(['log_feature', 'event_type', 'resource_type', 'test', 'severity_type', 'train'])"
      ]
     },
     "execution_count": 10,
     "metadata": {},
     "output_type": "execute_result"
    }
   ],
   "source": [
    "data.keys()"
   ]
  },
  {
   "cell_type": "markdown",
   "metadata": {},
   "source": [
    "### event_type"
   ]
  },
  {
   "cell_type": "code",
   "execution_count": 11,
   "metadata": {
    "collapsed": false
   },
   "outputs": [
    {
     "name": "stdout",
     "output_type": "stream",
     "text": [
      "     id     event_type\n",
      "0  6597  event_type 11\n",
      "1  8011  event_type 15\n",
      "2  2597  event_type 15\n",
      "3  5022  event_type 15\n",
      "4  5022  event_type 11\n",
      "<class 'pandas.core.frame.DataFrame'>\n",
      "RangeIndex: 31170 entries, 0 to 31169\n",
      "Data columns (total 2 columns):\n",
      "id            31170 non-null int64\n",
      "event_type    31170 non-null object\n",
      "dtypes: int64(1), object(1)\n",
      "memory usage: 487.1+ KB\n",
      "None\n",
      "                  id     event_type\n",
      "count   31170.000000          31170\n",
      "unique           NaN             53\n",
      "top              NaN  event_type 11\n",
      "freq             NaN           7888\n",
      "mean     9267.735258            NaN\n",
      "std      5363.817181            NaN\n",
      "min         1.000000            NaN\n",
      "25%      4625.250000            NaN\n",
      "50%      9287.500000            NaN\n",
      "75%     13915.000000            NaN\n",
      "max     18552.000000            NaN\n"
     ]
    }
   ],
   "source": [
    "summary(data[\"event_type\"])"
   ]
  },
  {
   "cell_type": "code",
   "execution_count": 12,
   "metadata": {
    "collapsed": false
   },
   "outputs": [
    {
     "data": {
      "text/plain": [
       "False"
      ]
     },
     "execution_count": 12,
     "metadata": {},
     "output_type": "execute_result"
    }
   ],
   "source": [
    "# check if id is sum of train_id and test_id\n",
    "data[\"event_type\"][\"id\"].count() == data[\"train\"][\"id\"].count() + data[\"test\"][\"id\"].count()"
   ]
  },
  {
   "cell_type": "code",
   "execution_count": 13,
   "metadata": {
    "collapsed": false
   },
   "outputs": [
    {
     "data": {
      "text/plain": [
       "True"
      ]
     },
     "execution_count": 13,
     "metadata": {},
     "output_type": "execute_result"
    }
   ],
   "source": [
    "data[\"event_type\"][\"id\"].nunique() == data[\"train\"][\"id\"].count() + data[\"test\"][\"id\"].count()"
   ]
  },
  {
   "cell_type": "code",
   "execution_count": 14,
   "metadata": {
    "collapsed": false
   },
   "outputs": [
    {
     "data": {
      "text/plain": [
       "49"
      ]
     },
     "execution_count": 14,
     "metadata": {},
     "output_type": "execute_result"
    }
   ],
   "source": [
    "data[\"train\"].merge(data[\"event_type\"], how=\"left\", left_on=\"id\", right_on=\"id\")[\"event_type\"].nunique()"
   ]
  },
  {
   "cell_type": "markdown",
   "metadata": {},
   "source": [
    "#### Remark:\n",
    "+ The id of event_type is dublicable, its unique is the sum of ...\n",
    "+ Should be grouped w.r.t. id columns\n",
    "+ some events in test_data not appear on train_data"
   ]
  },
  {
   "cell_type": "code",
   "execution_count": 15,
   "metadata": {
    "collapsed": false
   },
   "outputs": [
    {
     "data": {
      "text/plain": [
       "dict_keys(['log_feature', 'event_type', 'resource_type', 'test', 'severity_type', 'train'])"
      ]
     },
     "execution_count": 15,
     "metadata": {},
     "output_type": "execute_result"
    }
   ],
   "source": [
    "data.keys()"
   ]
  },
  {
   "cell_type": "markdown",
   "metadata": {},
   "source": [
    "### severity_type"
   ]
  },
  {
   "cell_type": "code",
   "execution_count": 16,
   "metadata": {
    "collapsed": false
   },
   "outputs": [
    {
     "name": "stdout",
     "output_type": "stream",
     "text": [
      "     id    severity_type\n",
      "0  6597  severity_type 2\n",
      "1  8011  severity_type 2\n",
      "2  2597  severity_type 2\n",
      "3  5022  severity_type 1\n",
      "4  6852  severity_type 1\n",
      "<class 'pandas.core.frame.DataFrame'>\n",
      "RangeIndex: 18552 entries, 0 to 18551\n",
      "Data columns (total 2 columns):\n",
      "id               18552 non-null int64\n",
      "severity_type    18552 non-null object\n",
      "dtypes: int64(1), object(1)\n",
      "memory usage: 290.0+ KB\n",
      "None\n",
      "                  id    severity_type\n",
      "count   18552.000000            18552\n",
      "unique           NaN                5\n",
      "top              NaN  severity_type 2\n",
      "freq             NaN             8737\n",
      "mean     9276.500000              NaN\n",
      "std      5355.645433              NaN\n",
      "min         1.000000              NaN\n",
      "25%      4638.750000              NaN\n",
      "50%      9276.500000              NaN\n",
      "75%     13914.250000              NaN\n",
      "max     18552.000000              NaN\n"
     ]
    }
   ],
   "source": [
    "summary(data[\"severity_type\"])"
   ]
  },
  {
   "cell_type": "code",
   "execution_count": 17,
   "metadata": {
    "collapsed": false
   },
   "outputs": [
    {
     "data": {
      "text/html": [
       "<div>\n",
       "<table border=\"1\" class=\"dataframe\">\n",
       "  <thead>\n",
       "    <tr style=\"text-align: right;\">\n",
       "      <th></th>\n",
       "      <th>id</th>\n",
       "      <th>severity_type</th>\n",
       "      <th>fault_severity</th>\n",
       "      <th>location</th>\n",
       "    </tr>\n",
       "  </thead>\n",
       "  <tbody>\n",
       "    <tr>\n",
       "      <th>0</th>\n",
       "      <td>6597</td>\n",
       "      <td>severity_type 2</td>\n",
       "      <td>NaN</td>\n",
       "      <td>location 1</td>\n",
       "    </tr>\n",
       "    <tr>\n",
       "      <th>1</th>\n",
       "      <td>8011</td>\n",
       "      <td>severity_type 2</td>\n",
       "      <td>0.0</td>\n",
       "      <td>location 1</td>\n",
       "    </tr>\n",
       "    <tr>\n",
       "      <th>2</th>\n",
       "      <td>2597</td>\n",
       "      <td>severity_type 2</td>\n",
       "      <td>NaN</td>\n",
       "      <td>location 1</td>\n",
       "    </tr>\n",
       "    <tr>\n",
       "      <th>3</th>\n",
       "      <td>5022</td>\n",
       "      <td>severity_type 1</td>\n",
       "      <td>NaN</td>\n",
       "      <td>location 1</td>\n",
       "    </tr>\n",
       "    <tr>\n",
       "      <th>4</th>\n",
       "      <td>6852</td>\n",
       "      <td>severity_type 1</td>\n",
       "      <td>NaN</td>\n",
       "      <td>location 1</td>\n",
       "    </tr>\n",
       "    <tr>\n",
       "      <th>5</th>\n",
       "      <td>5611</td>\n",
       "      <td>severity_type 2</td>\n",
       "      <td>NaN</td>\n",
       "      <td>location 1</td>\n",
       "    </tr>\n",
       "    <tr>\n",
       "      <th>6</th>\n",
       "      <td>14838</td>\n",
       "      <td>severity_type 1</td>\n",
       "      <td>NaN</td>\n",
       "      <td>location 1</td>\n",
       "    </tr>\n",
       "    <tr>\n",
       "      <th>7</th>\n",
       "      <td>2588</td>\n",
       "      <td>severity_type 1</td>\n",
       "      <td>0.0</td>\n",
       "      <td>location 1</td>\n",
       "    </tr>\n",
       "    <tr>\n",
       "      <th>8</th>\n",
       "      <td>4848</td>\n",
       "      <td>severity_type 1</td>\n",
       "      <td>0.0</td>\n",
       "      <td>location 1</td>\n",
       "    </tr>\n",
       "    <tr>\n",
       "      <th>9</th>\n",
       "      <td>6914</td>\n",
       "      <td>severity_type 1</td>\n",
       "      <td>0.0</td>\n",
       "      <td>location 1</td>\n",
       "    </tr>\n",
       "    <tr>\n",
       "      <th>10</th>\n",
       "      <td>5337</td>\n",
       "      <td>severity_type 1</td>\n",
       "      <td>0.0</td>\n",
       "      <td>location 1</td>\n",
       "    </tr>\n",
       "    <tr>\n",
       "      <th>11</th>\n",
       "      <td>10460</td>\n",
       "      <td>severity_type 1</td>\n",
       "      <td>NaN</td>\n",
       "      <td>location 1</td>\n",
       "    </tr>\n",
       "    <tr>\n",
       "      <th>12</th>\n",
       "      <td>15494</td>\n",
       "      <td>severity_type 1</td>\n",
       "      <td>0.0</td>\n",
       "      <td>location 1</td>\n",
       "    </tr>\n",
       "    <tr>\n",
       "      <th>13</th>\n",
       "      <td>10289</td>\n",
       "      <td>severity_type 1</td>\n",
       "      <td>NaN</td>\n",
       "      <td>location 1</td>\n",
       "    </tr>\n",
       "    <tr>\n",
       "      <th>14</th>\n",
       "      <td>8587</td>\n",
       "      <td>severity_type 1</td>\n",
       "      <td>NaN</td>\n",
       "      <td>location 1</td>\n",
       "    </tr>\n",
       "    <tr>\n",
       "      <th>15</th>\n",
       "      <td>12943</td>\n",
       "      <td>severity_type 1</td>\n",
       "      <td>NaN</td>\n",
       "      <td>location 1</td>\n",
       "    </tr>\n",
       "    <tr>\n",
       "      <th>16</th>\n",
       "      <td>590</td>\n",
       "      <td>severity_type 2</td>\n",
       "      <td>NaN</td>\n",
       "      <td>location 1</td>\n",
       "    </tr>\n",
       "    <tr>\n",
       "      <th>17</th>\n",
       "      <td>16416</td>\n",
       "      <td>severity_type 2</td>\n",
       "      <td>NaN</td>\n",
       "      <td>location 1</td>\n",
       "    </tr>\n",
       "    <tr>\n",
       "      <th>18</th>\n",
       "      <td>3399</td>\n",
       "      <td>severity_type 1</td>\n",
       "      <td>NaN</td>\n",
       "      <td>location 1</td>\n",
       "    </tr>\n",
       "    <tr>\n",
       "      <th>19</th>\n",
       "      <td>1505</td>\n",
       "      <td>severity_type 1</td>\n",
       "      <td>NaN</td>\n",
       "      <td>location 1</td>\n",
       "    </tr>\n",
       "    <tr>\n",
       "      <th>20</th>\n",
       "      <td>9446</td>\n",
       "      <td>severity_type 1</td>\n",
       "      <td>NaN</td>\n",
       "      <td>location 1</td>\n",
       "    </tr>\n",
       "    <tr>\n",
       "      <th>21</th>\n",
       "      <td>12482</td>\n",
       "      <td>severity_type 2</td>\n",
       "      <td>NaN</td>\n",
       "      <td>location 1</td>\n",
       "    </tr>\n",
       "    <tr>\n",
       "      <th>22</th>\n",
       "      <td>16538</td>\n",
       "      <td>severity_type 1</td>\n",
       "      <td>NaN</td>\n",
       "      <td>location 1</td>\n",
       "    </tr>\n",
       "    <tr>\n",
       "      <th>23</th>\n",
       "      <td>2250</td>\n",
       "      <td>severity_type 1</td>\n",
       "      <td>0.0</td>\n",
       "      <td>location 1</td>\n",
       "    </tr>\n",
       "    <tr>\n",
       "      <th>24</th>\n",
       "      <td>5259</td>\n",
       "      <td>severity_type 1</td>\n",
       "      <td>0.0</td>\n",
       "      <td>location 1</td>\n",
       "    </tr>\n",
       "    <tr>\n",
       "      <th>25</th>\n",
       "      <td>12751</td>\n",
       "      <td>severity_type 2</td>\n",
       "      <td>NaN</td>\n",
       "      <td>location 1</td>\n",
       "    </tr>\n",
       "    <tr>\n",
       "      <th>26</th>\n",
       "      <td>5195</td>\n",
       "      <td>severity_type 2</td>\n",
       "      <td>NaN</td>\n",
       "      <td>location 1</td>\n",
       "    </tr>\n",
       "    <tr>\n",
       "      <th>27</th>\n",
       "      <td>1233</td>\n",
       "      <td>severity_type 1</td>\n",
       "      <td>NaN</td>\n",
       "      <td>location 1</td>\n",
       "    </tr>\n",
       "    <tr>\n",
       "      <th>28</th>\n",
       "      <td>4703</td>\n",
       "      <td>severity_type 1</td>\n",
       "      <td>2.0</td>\n",
       "      <td>location 1</td>\n",
       "    </tr>\n",
       "    <tr>\n",
       "      <th>29</th>\n",
       "      <td>17508</td>\n",
       "      <td>severity_type 1</td>\n",
       "      <td>NaN</td>\n",
       "      <td>location 1</td>\n",
       "    </tr>\n",
       "    <tr>\n",
       "      <th>...</th>\n",
       "      <td>...</td>\n",
       "      <td>...</td>\n",
       "      <td>...</td>\n",
       "      <td>...</td>\n",
       "    </tr>\n",
       "    <tr>\n",
       "      <th>18522</th>\n",
       "      <td>11382</td>\n",
       "      <td>severity_type 1</td>\n",
       "      <td>1.0</td>\n",
       "      <td>location 998</td>\n",
       "    </tr>\n",
       "    <tr>\n",
       "      <th>18523</th>\n",
       "      <td>8390</td>\n",
       "      <td>severity_type 1</td>\n",
       "      <td>1.0</td>\n",
       "      <td>location 998</td>\n",
       "    </tr>\n",
       "    <tr>\n",
       "      <th>18524</th>\n",
       "      <td>8972</td>\n",
       "      <td>severity_type 1</td>\n",
       "      <td>0.0</td>\n",
       "      <td>location 998</td>\n",
       "    </tr>\n",
       "    <tr>\n",
       "      <th>18525</th>\n",
       "      <td>14027</td>\n",
       "      <td>severity_type 1</td>\n",
       "      <td>NaN</td>\n",
       "      <td>location 998</td>\n",
       "    </tr>\n",
       "    <tr>\n",
       "      <th>18526</th>\n",
       "      <td>14916</td>\n",
       "      <td>severity_type 1</td>\n",
       "      <td>1.0</td>\n",
       "      <td>location 998</td>\n",
       "    </tr>\n",
       "    <tr>\n",
       "      <th>18527</th>\n",
       "      <td>359</td>\n",
       "      <td>severity_type 1</td>\n",
       "      <td>NaN</td>\n",
       "      <td>location 998</td>\n",
       "    </tr>\n",
       "    <tr>\n",
       "      <th>18528</th>\n",
       "      <td>18243</td>\n",
       "      <td>severity_type 1</td>\n",
       "      <td>NaN</td>\n",
       "      <td>location 998</td>\n",
       "    </tr>\n",
       "    <tr>\n",
       "      <th>18529</th>\n",
       "      <td>10868</td>\n",
       "      <td>severity_type 1</td>\n",
       "      <td>NaN</td>\n",
       "      <td>location 998</td>\n",
       "    </tr>\n",
       "    <tr>\n",
       "      <th>18530</th>\n",
       "      <td>13670</td>\n",
       "      <td>severity_type 2</td>\n",
       "      <td>0.0</td>\n",
       "      <td>location 998</td>\n",
       "    </tr>\n",
       "    <tr>\n",
       "      <th>18531</th>\n",
       "      <td>10241</td>\n",
       "      <td>severity_type 4</td>\n",
       "      <td>NaN</td>\n",
       "      <td>location 998</td>\n",
       "    </tr>\n",
       "    <tr>\n",
       "      <th>18532</th>\n",
       "      <td>153</td>\n",
       "      <td>severity_type 4</td>\n",
       "      <td>NaN</td>\n",
       "      <td>location 998</td>\n",
       "    </tr>\n",
       "    <tr>\n",
       "      <th>18533</th>\n",
       "      <td>12775</td>\n",
       "      <td>severity_type 1</td>\n",
       "      <td>NaN</td>\n",
       "      <td>location 998</td>\n",
       "    </tr>\n",
       "    <tr>\n",
       "      <th>18534</th>\n",
       "      <td>15227</td>\n",
       "      <td>severity_type 1</td>\n",
       "      <td>NaN</td>\n",
       "      <td>location 998</td>\n",
       "    </tr>\n",
       "    <tr>\n",
       "      <th>18535</th>\n",
       "      <td>16843</td>\n",
       "      <td>severity_type 1</td>\n",
       "      <td>NaN</td>\n",
       "      <td>location 998</td>\n",
       "    </tr>\n",
       "    <tr>\n",
       "      <th>18536</th>\n",
       "      <td>9423</td>\n",
       "      <td>severity_type 1</td>\n",
       "      <td>NaN</td>\n",
       "      <td>location 999</td>\n",
       "    </tr>\n",
       "    <tr>\n",
       "      <th>18537</th>\n",
       "      <td>9563</td>\n",
       "      <td>severity_type 1</td>\n",
       "      <td>NaN</td>\n",
       "      <td>location 999</td>\n",
       "    </tr>\n",
       "    <tr>\n",
       "      <th>18538</th>\n",
       "      <td>4196</td>\n",
       "      <td>severity_type 1</td>\n",
       "      <td>1.0</td>\n",
       "      <td>location 999</td>\n",
       "    </tr>\n",
       "    <tr>\n",
       "      <th>18539</th>\n",
       "      <td>10096</td>\n",
       "      <td>severity_type 1</td>\n",
       "      <td>NaN</td>\n",
       "      <td>location 999</td>\n",
       "    </tr>\n",
       "    <tr>\n",
       "      <th>18540</th>\n",
       "      <td>6288</td>\n",
       "      <td>severity_type 1</td>\n",
       "      <td>1.0</td>\n",
       "      <td>location 999</td>\n",
       "    </tr>\n",
       "    <tr>\n",
       "      <th>18541</th>\n",
       "      <td>13296</td>\n",
       "      <td>severity_type 1</td>\n",
       "      <td>1.0</td>\n",
       "      <td>location 999</td>\n",
       "    </tr>\n",
       "    <tr>\n",
       "      <th>18542</th>\n",
       "      <td>1989</td>\n",
       "      <td>severity_type 1</td>\n",
       "      <td>NaN</td>\n",
       "      <td>location 999</td>\n",
       "    </tr>\n",
       "    <tr>\n",
       "      <th>18543</th>\n",
       "      <td>15206</td>\n",
       "      <td>severity_type 1</td>\n",
       "      <td>NaN</td>\n",
       "      <td>location 999</td>\n",
       "    </tr>\n",
       "    <tr>\n",
       "      <th>18544</th>\n",
       "      <td>15084</td>\n",
       "      <td>severity_type 1</td>\n",
       "      <td>NaN</td>\n",
       "      <td>location 999</td>\n",
       "    </tr>\n",
       "    <tr>\n",
       "      <th>18545</th>\n",
       "      <td>8114</td>\n",
       "      <td>severity_type 2</td>\n",
       "      <td>0.0</td>\n",
       "      <td>location 999</td>\n",
       "    </tr>\n",
       "    <tr>\n",
       "      <th>18546</th>\n",
       "      <td>8955</td>\n",
       "      <td>severity_type 1</td>\n",
       "      <td>NaN</td>\n",
       "      <td>location 999</td>\n",
       "    </tr>\n",
       "    <tr>\n",
       "      <th>18547</th>\n",
       "      <td>3761</td>\n",
       "      <td>severity_type 1</td>\n",
       "      <td>NaN</td>\n",
       "      <td>location 999</td>\n",
       "    </tr>\n",
       "    <tr>\n",
       "      <th>18548</th>\n",
       "      <td>8720</td>\n",
       "      <td>severity_type 1</td>\n",
       "      <td>NaN</td>\n",
       "      <td>location 999</td>\n",
       "    </tr>\n",
       "    <tr>\n",
       "      <th>18549</th>\n",
       "      <td>6488</td>\n",
       "      <td>severity_type 2</td>\n",
       "      <td>NaN</td>\n",
       "      <td>location 999</td>\n",
       "    </tr>\n",
       "    <tr>\n",
       "      <th>18550</th>\n",
       "      <td>878</td>\n",
       "      <td>severity_type 2</td>\n",
       "      <td>0.0</td>\n",
       "      <td>location 999</td>\n",
       "    </tr>\n",
       "    <tr>\n",
       "      <th>18551</th>\n",
       "      <td>4464</td>\n",
       "      <td>severity_type 1</td>\n",
       "      <td>0.0</td>\n",
       "      <td>location 999</td>\n",
       "    </tr>\n",
       "  </tbody>\n",
       "</table>\n",
       "<p>18552 rows × 4 columns</p>\n",
       "</div>"
      ],
      "text/plain": [
       "          id    severity_type  fault_severity      location\n",
       "0       6597  severity_type 2             NaN    location 1\n",
       "1       8011  severity_type 2             0.0    location 1\n",
       "2       2597  severity_type 2             NaN    location 1\n",
       "3       5022  severity_type 1             NaN    location 1\n",
       "4       6852  severity_type 1             NaN    location 1\n",
       "5       5611  severity_type 2             NaN    location 1\n",
       "6      14838  severity_type 1             NaN    location 1\n",
       "7       2588  severity_type 1             0.0    location 1\n",
       "8       4848  severity_type 1             0.0    location 1\n",
       "9       6914  severity_type 1             0.0    location 1\n",
       "10      5337  severity_type 1             0.0    location 1\n",
       "11     10460  severity_type 1             NaN    location 1\n",
       "12     15494  severity_type 1             0.0    location 1\n",
       "13     10289  severity_type 1             NaN    location 1\n",
       "14      8587  severity_type 1             NaN    location 1\n",
       "15     12943  severity_type 1             NaN    location 1\n",
       "16       590  severity_type 2             NaN    location 1\n",
       "17     16416  severity_type 2             NaN    location 1\n",
       "18      3399  severity_type 1             NaN    location 1\n",
       "19      1505  severity_type 1             NaN    location 1\n",
       "20      9446  severity_type 1             NaN    location 1\n",
       "21     12482  severity_type 2             NaN    location 1\n",
       "22     16538  severity_type 1             NaN    location 1\n",
       "23      2250  severity_type 1             0.0    location 1\n",
       "24      5259  severity_type 1             0.0    location 1\n",
       "25     12751  severity_type 2             NaN    location 1\n",
       "26      5195  severity_type 2             NaN    location 1\n",
       "27      1233  severity_type 1             NaN    location 1\n",
       "28      4703  severity_type 1             2.0    location 1\n",
       "29     17508  severity_type 1             NaN    location 1\n",
       "...      ...              ...             ...           ...\n",
       "18522  11382  severity_type 1             1.0  location 998\n",
       "18523   8390  severity_type 1             1.0  location 998\n",
       "18524   8972  severity_type 1             0.0  location 998\n",
       "18525  14027  severity_type 1             NaN  location 998\n",
       "18526  14916  severity_type 1             1.0  location 998\n",
       "18527    359  severity_type 1             NaN  location 998\n",
       "18528  18243  severity_type 1             NaN  location 998\n",
       "18529  10868  severity_type 1             NaN  location 998\n",
       "18530  13670  severity_type 2             0.0  location 998\n",
       "18531  10241  severity_type 4             NaN  location 998\n",
       "18532    153  severity_type 4             NaN  location 998\n",
       "18533  12775  severity_type 1             NaN  location 998\n",
       "18534  15227  severity_type 1             NaN  location 998\n",
       "18535  16843  severity_type 1             NaN  location 998\n",
       "18536   9423  severity_type 1             NaN  location 999\n",
       "18537   9563  severity_type 1             NaN  location 999\n",
       "18538   4196  severity_type 1             1.0  location 999\n",
       "18539  10096  severity_type 1             NaN  location 999\n",
       "18540   6288  severity_type 1             1.0  location 999\n",
       "18541  13296  severity_type 1             1.0  location 999\n",
       "18542   1989  severity_type 1             NaN  location 999\n",
       "18543  15206  severity_type 1             NaN  location 999\n",
       "18544  15084  severity_type 1             NaN  location 999\n",
       "18545   8114  severity_type 2             0.0  location 999\n",
       "18546   8955  severity_type 1             NaN  location 999\n",
       "18547   3761  severity_type 1             NaN  location 999\n",
       "18548   8720  severity_type 1             NaN  location 999\n",
       "18549   6488  severity_type 2             NaN  location 999\n",
       "18550    878  severity_type 2             0.0  location 999\n",
       "18551   4464  severity_type 1             0.0  location 999\n",
       "\n",
       "[18552 rows x 4 columns]"
      ]
     },
     "execution_count": 17,
     "metadata": {},
     "output_type": "execute_result"
    }
   ],
   "source": [
    "data[\"severity_type\"].merge(pd.concat([data[\"train\"], data[\"test\"]]), how=\"left\", left_on=\"id\", right_on=\"id\")"
   ]
  },
  {
   "cell_type": "code",
   "execution_count": 18,
   "metadata": {
    "collapsed": false
   },
   "outputs": [
    {
     "data": {
      "text/plain": [
       "True"
      ]
     },
     "execution_count": 18,
     "metadata": {},
     "output_type": "execute_result"
    }
   ],
   "source": [
    "data[\"severity_type\"][\"id\"].count() == data[\"train\"][\"id\"].count() + data[\"test\"][\"id\"].count()"
   ]
  },
  {
   "cell_type": "code",
   "execution_count": 19,
   "metadata": {
    "collapsed": false
   },
   "outputs": [
    {
     "data": {
      "text/plain": [
       "5"
      ]
     },
     "execution_count": 19,
     "metadata": {},
     "output_type": "execute_result"
    }
   ],
   "source": [
    "data[\"train\"].merge(data[\"severity_type\"], how=\"left\", left_on=\"id\", right_on=\"id\")[\"severity_type\"].nunique()"
   ]
  },
  {
   "cell_type": "markdown",
   "metadata": {},
   "source": [
    "#### Remark\n",
    "+ \"severity_type\" is categorical. It does not have an ordering\n",
    "+ all severity_type appears in train_data"
   ]
  },
  {
   "cell_type": "code",
   "execution_count": 20,
   "metadata": {
    "collapsed": false
   },
   "outputs": [
    {
     "data": {
      "text/plain": [
       "dict_keys(['log_feature', 'event_type', 'resource_type', 'test', 'severity_type', 'train'])"
      ]
     },
     "execution_count": 20,
     "metadata": {},
     "output_type": "execute_result"
    }
   ],
   "source": [
    "data.keys()"
   ]
  },
  {
   "cell_type": "markdown",
   "metadata": {},
   "source": [
    "### resource_type"
   ]
  },
  {
   "cell_type": "code",
   "execution_count": 21,
   "metadata": {
    "collapsed": false
   },
   "outputs": [
    {
     "name": "stdout",
     "output_type": "stream",
     "text": [
      "     id    resource_type\n",
      "0  6597  resource_type 8\n",
      "1  8011  resource_type 8\n",
      "2  2597  resource_type 8\n",
      "3  5022  resource_type 8\n",
      "4  6852  resource_type 8\n",
      "<class 'pandas.core.frame.DataFrame'>\n",
      "RangeIndex: 21076 entries, 0 to 21075\n",
      "Data columns (total 2 columns):\n",
      "id               21076 non-null int64\n",
      "resource_type    21076 non-null object\n",
      "dtypes: int64(1), object(1)\n",
      "memory usage: 329.4+ KB\n",
      "None\n",
      "                  id    resource_type\n",
      "count   21076.000000            21076\n",
      "unique           NaN               10\n",
      "top              NaN  resource_type 8\n",
      "freq             NaN            10268\n",
      "mean     9255.869330              NaN\n",
      "std      5366.730222              NaN\n",
      "min         1.000000              NaN\n",
      "25%      4599.750000              NaN\n",
      "50%      9256.500000              NaN\n",
      "75%     13907.250000              NaN\n",
      "max     18552.000000              NaN\n"
     ]
    }
   ],
   "source": [
    "summary(data[\"resource_type\"])"
   ]
  },
  {
   "cell_type": "code",
   "execution_count": 22,
   "metadata": {
    "collapsed": false
   },
   "outputs": [
    {
     "data": {
      "text/plain": [
       "18552"
      ]
     },
     "execution_count": 22,
     "metadata": {},
     "output_type": "execute_result"
    }
   ],
   "source": [
    "data[\"resource_type\"][\"id\"].nunique()"
   ]
  },
  {
   "cell_type": "markdown",
   "metadata": {
    "collapsed": false
   },
   "source": [
    "#### Remark:\n",
    "+ Should be grouped with id\n",
    "+ resource type categorized"
   ]
  },
  {
   "cell_type": "code",
   "execution_count": 23,
   "metadata": {
    "collapsed": false
   },
   "outputs": [
    {
     "data": {
      "text/plain": [
       "dict_keys(['log_feature', 'event_type', 'resource_type', 'test', 'severity_type', 'train'])"
      ]
     },
     "execution_count": 23,
     "metadata": {},
     "output_type": "execute_result"
    }
   ],
   "source": [
    "data.keys()"
   ]
  },
  {
   "cell_type": "markdown",
   "metadata": {},
   "source": [
    "### log_feature"
   ]
  },
  {
   "cell_type": "code",
   "execution_count": 24,
   "metadata": {
    "collapsed": false
   },
   "outputs": [
    {
     "name": "stdout",
     "output_type": "stream",
     "text": [
      "     id  log_feature  volume\n",
      "0  6597   feature 68       6\n",
      "1  8011   feature 68       7\n",
      "2  2597   feature 68       1\n",
      "3  5022  feature 172       2\n",
      "4  5022   feature 56       1\n",
      "<class 'pandas.core.frame.DataFrame'>\n",
      "RangeIndex: 58671 entries, 0 to 58670\n",
      "Data columns (total 3 columns):\n",
      "id             58671 non-null int64\n",
      "log_feature    58671 non-null object\n",
      "volume         58671 non-null int64\n",
      "dtypes: int64(2), object(1)\n",
      "memory usage: 1.3+ MB\n",
      "None\n",
      "                  id  log_feature        volume\n",
      "count   58671.000000        58671  58671.000000\n",
      "unique           NaN          386           NaN\n",
      "top              NaN  feature 312           NaN\n",
      "freq             NaN         5267           NaN\n",
      "mean     9271.368905          NaN      9.685296\n",
      "std      5355.142878          NaN     27.314433\n",
      "min         1.000000          NaN      1.000000\n",
      "25%      4658.500000          NaN      1.000000\n",
      "50%      9275.000000          NaN      2.000000\n",
      "75%     13903.000000          NaN      7.000000\n",
      "max     18552.000000          NaN   1310.000000\n"
     ]
    }
   ],
   "source": [
    "summary(data[\"log_feature\"])"
   ]
  },
  {
   "cell_type": "code",
   "execution_count": 25,
   "metadata": {
    "collapsed": false
   },
   "outputs": [
    {
     "data": {
      "text/plain": [
       "18552"
      ]
     },
     "execution_count": 25,
     "metadata": {},
     "output_type": "execute_result"
    }
   ],
   "source": [
    "data[\"log_feature\"][\"id\"].nunique()"
   ]
  },
  {
   "cell_type": "code",
   "execution_count": 26,
   "metadata": {
    "collapsed": false
   },
   "outputs": [
    {
     "data": {
      "text/plain": [
       "1      20713\n",
       "2       9716\n",
       "3       4488\n",
       "4       3713\n",
       "5       2207\n",
       "6       2203\n",
       "8       1403\n",
       "7       1275\n",
       "10      1012\n",
       "9        894\n",
       "12       727\n",
       "11       593\n",
       "14       567\n",
       "13       514\n",
       "16       471\n",
       "20       391\n",
       "18       386\n",
       "15       365\n",
       "17       312\n",
       "24       305\n",
       "19       284\n",
       "22       280\n",
       "21       276\n",
       "25       229\n",
       "28       219\n",
       "23       214\n",
       "26       208\n",
       "27       176\n",
       "30       175\n",
       "32       164\n",
       "       ...  \n",
       "199        1\n",
       "215        1\n",
       "662        1\n",
       "166        1\n",
       "198        1\n",
       "598        1\n",
       "262        1\n",
       "294        1\n",
       "326        1\n",
       "358        1\n",
       "566        1\n",
       "502        1\n",
       "310        1\n",
       "246        1\n",
       "231        1\n",
       "274        1\n",
       "263        1\n",
       "647        1\n",
       "405        1\n",
       "309        1\n",
       "584        1\n",
       "372        1\n",
       "212        1\n",
       "435        1\n",
       "371        1\n",
       "169        1\n",
       "233        1\n",
       "265        1\n",
       "434        1\n",
       "351        1\n",
       "Name: volume, dtype: int64"
      ]
     },
     "execution_count": 26,
     "metadata": {},
     "output_type": "execute_result"
    }
   ],
   "source": [
    "data[\"log_feature\"][\"volume\"].value_counts()"
   ]
  },
  {
   "cell_type": "code",
   "execution_count": 27,
   "metadata": {
    "collapsed": false
   },
   "outputs": [
    {
     "data": {
      "text/plain": [
       "<matplotlib.axes._subplots.AxesSubplot at 0x7f8b9b89a0f0>"
      ]
     },
     "execution_count": 27,
     "metadata": {},
     "output_type": "execute_result"
    },
    {
     "data": {
      "image/png": "[encoded data removed]",
      "text/plain": [
       "<matplotlib.figure.Figure at 0x7f8b9b91b6d8>"
      ]
     },
     "metadata": {},
     "output_type": "display_data"
    }
   ],
   "source": [
    "data[\"log_feature\"].groupby(\"volume\").agg(len)[\"log_feature\"].plot()"
   ]
  },
  {
   "cell_type": "code",
   "execution_count": 28,
   "metadata": {
    "collapsed": false
   },
   "outputs": [
    {
     "data": {
      "text/plain": [
       "log_feature    18552\n",
       "dtype: int64"
      ]
     },
     "execution_count": 28,
     "metadata": {},
     "output_type": "execute_result"
    }
   ],
   "source": [
    "# check if log features are different for each id, yes!\n",
    "data[\"log_feature\"].pivot_table(index=[\"id\"], values=[\"log_feature\"], aggfunc=lambda x: x.nunique()==x.count()).sum()"
   ]
  },
  {
   "cell_type": "markdown",
   "metadata": {},
   "source": [
    "#### Remark:\n",
    "+ volume and log feature should be categorized ??"
   ]
  }
 ],
 "metadata": {
  "anaconda-cloud": {},
  "kernelspec": {
   "display_name": "Python [default]",
   "language": "python",
   "name": "python3"
  },
  "language_info": {
   "codemirror_mode": {
    "name": "ipython",
    "version": 3
   },
   "file_extension": ".py",
   "mimetype": "text/x-python",
   "name": "python",
   "nbconvert_exporter": "python",
   "pygments_lexer": "ipython3",
   "version": "3.5.2"
  }
 },
 "nbformat": 4,
 "nbformat_minor": 0
}
